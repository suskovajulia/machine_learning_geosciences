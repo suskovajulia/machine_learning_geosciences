{
 "cells": [
  {
   "cell_type": "markdown",
   "id": "7cd032ac",
   "metadata": {},
   "source": [
    "# ___\n",
    "\n",
    "# [ Machine Learning in Geosciences ]\n",
    "\n",
    "**Department of Applied Geoinformatics and Carthography, Charles University** \n",
    "\n",
    "*Lukas Brodsky lukas.brodsky@natur.cuni.cz*\n",
    "\n",
    "    \n",
    "___"
   ]
  },
  {
   "cell_type": "markdown",
   "id": "ffa00fd8",
   "metadata": {},
   "source": [
    "# Multilayer Neural Network "
   ]
  },
  {
   "cell_type": "markdown",
   "id": "38f6afb9",
   "metadata": {},
   "source": [
    "The purpose of this notebook is to demosnstrate the multilayer neural network in PytTorch framework. \n",
    "\n",
    "Tasks: \n",
    "\n",
    "* Model 1: 1 input, 2 hidden layers, 1 output using `nn.Sequential()` \n",
    "\n",
    "* Model 2: with internal nternl structure: (1, 16), (16, 32), (32, 32), (32, 32), (32, 16), (16, 1)\n",
    "\n",
    "* Model 3: with 1 input, 1 nn.ModuleList() for variable hidden layers and 1 outpout using PyTorch `nn.Sequential()`, and `nn.ModuleList()`. "
   ]
  },
  {
   "cell_type": "code",
   "execution_count": null,
   "id": "b7eb33d2",
   "metadata": {},
   "outputs": [],
   "source": [
    "import numpy as np\n",
    "import torch\n",
    "from torch import nn\n",
    "import torch.nn.functional as F\n",
    "from torch.autograd import Variable\n",
    "from torch.utils.data import DataLoader\n",
    "import matplotlib.pyplot as plt"
   ]
  },
  {
   "cell_type": "code",
   "execution_count": null,
   "id": "5a731af3",
   "metadata": {},
   "outputs": [],
   "source": [
    "# Data\n",
    "num_points = 1000 \n",
    "torch.manual_seed(0)\n",
    "x = torch.rand(num_points, 1)\n",
    "x, indices  = torch.sort(x, 0)\n",
    "noise = torch.rand_like(x) * .7\n",
    "y = .5 * (x*6).sin() + x + (x - .75) * noise"
   ]
  },
  {
   "cell_type": "code",
   "execution_count": null,
   "id": "867a1547",
   "metadata": {},
   "outputs": [],
   "source": [
    "print(x.shape)\n",
    "print(y.shape)"
   ]
  },
  {
   "cell_type": "code",
   "execution_count": null,
   "id": "831c2dc7",
   "metadata": {},
   "outputs": [],
   "source": [
    "plt.scatter(x, y)\n",
    "plt.show()"
   ]
  },
  {
   "cell_type": "markdown",
   "id": "c7acc4f6",
   "metadata": {},
   "source": [
    "### Design the ANN model 1\n",
    "\n",
    "The Artificial Neuaral Network based on initialized `nn_block` using PyTorch `nn.Sequential()` \n",
    "\n",
    "* input features: 1 \n",
    "* output (regression): 1 \n",
    "\n",
    "* Internl structure of the ANN: \n",
    "    * input layer: nn.Linear(num_features, 16)\n",
    "    * hidden layer #1: nn.Linear(16, 32)\n",
    "    * hidden layer #2: nn.Linear(32, 16) \n",
    "    * output layer: nn.Linear(16, num_features)\n",
    "\n",
    "    * activation: nn.ReLU() \n",
    "    \n",
    "Hence: \n",
    "\n",
    "    self.nn_block = nn.Sequential(\n",
    "            nn.Linear(num_features, 16),  # input layer\n",
    "            nn.ReLU(),                    # non-inearity \n",
    "            ... \n",
    "            ) \n",
    "\n",
    "The definition of the `forward()` method is then simply: \n",
    "\n",
    "    def forward(self, inputs):\n",
    "        x = self.nn_block(inputs)\n",
    "        \n",
    "        return (x)\n"
   ]
  },
  {
   "cell_type": "code",
   "execution_count": null,
   "id": "de85cb34",
   "metadata": {},
   "outputs": [],
   "source": [
    "# Nonlinear model with two hidden layers \n",
    "class NonLinear(nn.Module):\n",
    "    def __init__(self, num_features):\n",
    "        super(NonLinear, self).__init__()\n",
    "        \n",
    "        self.nn_block = pass\n",
    "\n",
    "    def forward(self, inputs):\n",
    "        pass\n",
    "        \n",
    "        return (x)"
   ]
  },
  {
   "cell_type": "markdown",
   "id": "0450ed8a",
   "metadata": {},
   "source": [
    "### Design the ANN model 2 \n",
    "\n",
    "The Artificial Neuaral Network based on initialized `nn_block` using PyTorch `nn.Sequential()` \n",
    "\n",
    "* input features: 1 \n",
    "* output (regression): 1 \n",
    "\n",
    "* Internl structure of the ANN: (1, 16), (16, 32), (32, 32), (32, 32), (32, 16), (16, 1)\n",
    "* activation: nn.ReLU() \n",
    "    "
   ]
  },
  {
   "cell_type": "code",
   "execution_count": null,
   "id": "9da7bf72",
   "metadata": {},
   "outputs": [],
   "source": [
    "# Nonlinear model with four hidden layers \n",
    "class NonLinear(nn.Module):\n",
    "    def __init__(self, num_features):\n",
    "        super(NonLinear, self).__init__()\n",
    "        \n",
    "        self.nn_block = pass\n",
    "\n",
    "    def forward(self, inputs):\n",
    "        pass \n",
    "        \n",
    "        return (x)"
   ]
  },
  {
   "cell_type": "markdown",
   "id": "f698b008",
   "metadata": {},
   "source": [
    "### Design the ANN model 3\n",
    "\n",
    "The Artificial Neuaral Network based on initialized nn blocks (1 input, 1 nn.ModuleList() for variable hidden layers and one outpout) using PyTorch `nn.Sequential()`, and `nn.ModuleList()`. \n",
    "\n",
    "* input features: 1 \n",
    "* output (regression): 1 \n",
    "\n",
    "* Internl structure of the ANN: \n",
    "    * input layer (1, 32), \n",
    "    * N hidden layers based model initialization with dimensionality (32, 32)\n",
    "    * output layer (32, 1)\n",
    "    * activation: nn.ReLU() \n",
    "\n",
    "Use `nn.ModuleList()`: \n",
    "\n",
    "        self.num_hidden_layers = num_hidden_layers \n",
    "        self.hidden_layer_list = []\n",
    "        self.hidden_layer = nn.Sequential(nn.Linear(32, 32), \n",
    "                                  nn.ReLU()\n",
    "                                 )     \n",
    "        for i in range(num_hidden_layers):\n",
    "            self.hidden_layer_list.append(self.hidden_layer)\n",
    "\n",
    "    \n",
    "        self.hidden_layers = nn.ModuleList(self.hidden_layer_list)        \n",
    "\n",
    "And then in `forward()` method you have to loop over N hidden layers: \n",
    "\n",
    "        for i in range(len(self.hidden_layers)):\n",
    "            x = self.hidden_layers[i](x) \n"
   ]
  },
  {
   "cell_type": "code",
   "execution_count": null,
   "id": "00cfec4c",
   "metadata": {},
   "outputs": [],
   "source": [
    "# Nonlinear model with two hidden layers \n",
    "class NonLinear(nn.Module):\n",
    "    def __init__(self, num_features, num_hidden_layers):\n",
    "        super(NonLinear, self).__init__()\n",
    "        \n",
    "        self.nn_input = pass\n",
    "    \n",
    "        self.hidden_layers = nn.ModuleList(pass)        \n",
    "        \n",
    "\n",
    "        self.nn_output = pass\n",
    "\n",
    "    def forward(self, inputs):\n",
    "        pass \n",
    "    \n",
    "        return (x)"
   ]
  },
  {
   "cell_type": "code",
   "execution_count": null,
   "id": "e112068e",
   "metadata": {},
   "outputs": [],
   "source": [
    "# instantiate the model\n",
    "pass "
   ]
  },
  {
   "cell_type": "code",
   "execution_count": null,
   "id": "7fa008ab",
   "metadata": {},
   "outputs": [],
   "source": [
    "# optimization \n",
    "learning_rate = 0.1\n",
    "epoches = 3000\n",
    "\n",
    "# loss: regression -> MSE\n",
    "pass \n",
    "\n",
    "# optimizer: stochastic gradient descent \n",
    "pass "
   ]
  },
  {
   "cell_type": "code",
   "execution_count": null,
   "id": "0e45782a",
   "metadata": {},
   "outputs": [],
   "source": [
    "# tarining\n",
    "inputs = Variable(x)\n",
    "outputs = Variable(y)\n",
    "\n",
    "for i in range(epoches):\n",
    "    # apply model\n",
    "    prediction = pass \n",
    "    # get loss \n",
    "    loss = pass\n",
    "    # remove gradiens from optimizaer previous step with .zero_grad()\n",
    "    pass \n",
    "    # backpropagation on loss \n",
    "    pass \n",
    "    # optimization .step()\n",
    "    pass \n",
    "\n",
    "    # plot model result with loss \n",
    "    if i % 100 == 0:\n",
    "        plt.cla()\n",
    "        plt.scatter(x.data.numpy(), y.data.numpy())\n",
    "        plt.plot(x.data.numpy(), prediction.data.numpy(), 'r-', lw=2)\n",
    "        plt.text(0.3, 0, 'Loss=%.4f' % loss.data.numpy(), fontdict={'size': 10, 'color':  'red'})\n",
    "        plt.pause(0.01)\n",
    "\n",
    "plt.show()"
   ]
  },
  {
   "cell_type": "markdown",
   "id": "4a959878",
   "metadata": {},
   "source": [
    "### Finetune the ANN model for N variable hidden layers "
   ]
  },
  {
   "cell_type": "code",
   "execution_count": null,
   "id": "dee794d6",
   "metadata": {},
   "outputs": [],
   "source": [
    "pass "
   ]
  },
  {
   "cell_type": "code",
   "execution_count": null,
   "id": "b9199c05",
   "metadata": {},
   "outputs": [],
   "source": []
  }
 ],
 "metadata": {
  "kernelspec": {
   "display_name": "Python 3 (ipykernel)",
   "language": "python",
   "name": "python3"
  },
  "language_info": {
   "codemirror_mode": {
    "name": "ipython",
    "version": 3
   },
   "file_extension": ".py",
   "mimetype": "text/x-python",
   "name": "python",
   "nbconvert_exporter": "python",
   "pygments_lexer": "ipython3",
   "version": "3.9.10"
  }
 },
 "nbformat": 4,
 "nbformat_minor": 5
}
