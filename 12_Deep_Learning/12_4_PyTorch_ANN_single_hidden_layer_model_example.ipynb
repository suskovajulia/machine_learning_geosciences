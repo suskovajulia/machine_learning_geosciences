{
 "cells": [
  {
   "cell_type": "markdown",
   "id": "286609a6",
   "metadata": {},
   "source": [
    "# ___\n",
    "\n",
    "# [ Machine Learning in Geosciences ]\n",
    "\n",
    "**Department of Applied Geoinformatics and Carthography, Charles University** \n",
    "\n",
    "*Lukas Brodsky lukas.brodsky@natur.cuni.cz*\n",
    "\n",
    "    \n",
    "___"
   ]
  },
  {
   "cell_type": "markdown",
   "id": "7d0990c2",
   "metadata": {},
   "source": [
    "# Single Layer Neural Network "
   ]
  },
  {
   "cell_type": "markdown",
   "id": "0abb1b83",
   "metadata": {},
   "source": [
    "The purpose of this notebook is to  demonstrate a single layer non-linear neural network. "
   ]
  },
  {
   "cell_type": "code",
   "execution_count": null,
   "id": "61e98af9",
   "metadata": {},
   "outputs": [],
   "source": [
    "import torch\n",
    "import torch.nn as nn  \n",
    "import matplotlib.pyplot as plt"
   ]
  },
  {
   "cell_type": "code",
   "execution_count": null,
   "id": "1b3e410b",
   "metadata": {},
   "outputs": [],
   "source": [
    "# synthetic the data (multi-step function / non-linear) \n",
    "X = torch.arange(-30, 30, 1).view(-1, 1).type(torch.FloatTensor)\n",
    "X.shape"
   ]
  },
  {
   "cell_type": "code",
   "execution_count": null,
   "id": "fd63e307",
   "metadata": {},
   "outputs": [],
   "source": [
    "Y = torch.zeros(X.shape[0])\n",
    "Y[(X[:, 0] <= -10)] = 1.0\n",
    "Y[(X[:, 0] > -10) & (X[:, 0] < 10)] = 0.5\n",
    "Y[(X[:, 0] > 10)] = 0"
   ]
  },
  {
   "cell_type": "code",
   "execution_count": null,
   "id": "057b9d66",
   "metadata": {},
   "outputs": [],
   "source": [
    "plt.plot(X, Y, 'b.-')"
   ]
  },
  {
   "cell_type": "code",
   "execution_count": null,
   "id": "bd73fc10",
   "metadata": {},
   "outputs": [],
   "source": [
    "# defin the model \n",
    "class One_layer_net(torch.nn.Module):    \n",
    "    def __init__(self, input_size, hidden_neurons, output_size):\n",
    "        super(One_layer_net, self).__init__()        \n",
    "        # hidden layer \n",
    "        self.linear1 = torch.nn.Linear(input_size, hidden_neurons)\n",
    "        # output layer \n",
    "        self.linear2 = torch.nn.Linear(hidden_neurons, output_size) \n",
    "        # defining layers as attributes\n",
    "        self.layer_in = None\n",
    "        self.hidden = None\n",
    "        self.layer_out = None\n",
    "\n",
    "    def forward(self, x):\n",
    "        self.layer_in = torch.sigmoid(self.linear1(x))\n",
    "        self.hidden = self.linear2(self.layer_in)\n",
    "        self.layer_out = torch.sigmoid(self.hidden)\n",
    "\n",
    "        return self.layer_out\n",
    "    "
   ]
  },
  {
   "cell_type": "code",
   "execution_count": null,
   "id": "7df55b1c",
   "metadata": {},
   "outputs": [],
   "source": [
    "# instantiate the model \n",
    "model = One_layer_net(1, 2, 1)  # 2 represents two neurons in one hidden layer"
   ]
  },
  {
   "cell_type": "markdown",
   "id": "c45ab99c",
   "metadata": {},
   "source": [
    "### Train the model"
   ]
  },
  {
   "cell_type": "code",
   "execution_count": null,
   "id": "9d88c87f",
   "metadata": {},
   "outputs": [],
   "source": [
    "# loss function\n",
    "# def criterion(y_pred, y):\n",
    "#     # cross entropy loss  \n",
    "#     out = -1 * torch.mean(y * torch.log(y_pred) + (1 - y) * torch.log(1 - y_pred))\n",
    "#     return out\n",
    "\n",
    "criterion = nn.MSELoss()"
   ]
  },
  {
   "cell_type": "code",
   "execution_count": null,
   "id": "23085c51",
   "metadata": {},
   "outputs": [],
   "source": [
    "# optimization procedure: stochastic gradient descent \n",
    "optimizer = torch.optim.SGD(model.parameters(), lr=0.01)"
   ]
  },
  {
   "cell_type": "code",
   "execution_count": null,
   "id": "dbded757",
   "metadata": {
    "scrolled": false
   },
   "outputs": [],
   "source": [
    "# Define the training loop\n",
    "epochs = 2000\n",
    "cost = []\n",
    "total = 0\n",
    "\n",
    "for epoch in range(epochs):\n",
    "    total=0\n",
    "    epoch = epoch + 1\n",
    "    \n",
    "    for x, y in zip(X, Y):\n",
    "        yhat = model(x)\n",
    "        loss = criterion(yhat, y)\n",
    "        loss.backward() \n",
    "        optimizer.step()\n",
    "        optimizer.zero_grad()\n",
    "        # get total loss \n",
    "        total+=loss.item() \n",
    "    cost.append(total)\n",
    "    \n",
    "    if epoch % 500 == 0:\n",
    "        print(str(epoch)+ \" \" + \"epochs done!\") \n",
    "        # plot the result of function approximator\n",
    "        plt.plot(X.numpy(), model(X).detach().numpy())\n",
    "        plt.plot(X.numpy(), Y.numpy(), 'm')\n",
    "        plt.xlabel('x')\n",
    "        plt.show()"
   ]
  },
  {
   "cell_type": "code",
   "execution_count": null,
   "id": "b2eac4d4",
   "metadata": {},
   "outputs": [],
   "source": [
    "# plot the cost\n",
    "plt.plot(cost)\n",
    "plt.xlabel('epochs')\n",
    "plt.title('loss')"
   ]
  },
  {
   "cell_type": "code",
   "execution_count": null,
   "id": "b84b588e",
   "metadata": {},
   "outputs": [],
   "source": []
  }
 ],
 "metadata": {
  "kernelspec": {
   "display_name": "Python 3 (ipykernel)",
   "language": "python",
   "name": "python3"
  },
  "language_info": {
   "codemirror_mode": {
    "name": "ipython",
    "version": 3
   },
   "file_extension": ".py",
   "mimetype": "text/x-python",
   "name": "python",
   "nbconvert_exporter": "python",
   "pygments_lexer": "ipython3",
   "version": "3.9.10"
  }
 },
 "nbformat": 4,
 "nbformat_minor": 5
}
