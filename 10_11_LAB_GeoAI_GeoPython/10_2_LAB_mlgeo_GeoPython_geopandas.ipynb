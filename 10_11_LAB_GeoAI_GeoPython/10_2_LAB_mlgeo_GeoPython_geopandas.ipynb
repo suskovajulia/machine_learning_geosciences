{
 "cells": [
  {
   "attachments": {},
   "cell_type": "markdown",
   "id": "fa7601d0",
   "metadata": {},
   "source": [
    "# ___\n",
    "\n",
    "# [ Machine Learning in Geosciences]\n",
    "\n",
    "\n",
    "---\n",
    "\n",
    "Lecturer: *Lukas Brodsky lukas.brodsky@natur.cuni.cz*\n",
    "\n",
    "**Department of Applied Geoinformatics and Carthography, Charles University** \n",
    "\n",
    "___"
   ]
  },
  {
   "cell_type": "markdown",
   "id": "ba50ec0f",
   "metadata": {},
   "source": [
    "## GeoPandas"
   ]
  },
  {
   "cell_type": "markdown",
   "id": "809757c7",
   "metadata": {},
   "source": [
    "This notebook introduces how to work with vectors in in Python using GeoPandas https://geopandas.org library. GeoPandas extends the popular data science library pandas by adding support for geospatial data.\n",
    "\n",
    "\n",
    "It covers: \n",
    "\n",
    "    \n",
    "* 1. Reading and writing vector data into GeoDataFrame and file system \n",
    "\n",
    "* 2. Simple accessors functions \n",
    "\n",
    "* 3. Plotting maps\n",
    "\n",
    "* 4. Geometry constructors \n"
   ]
  },
  {
   "cell_type": "markdown",
   "id": "8a5e0489",
   "metadata": {},
   "source": [
    "The core data structure in GeoPandas is the `geopandas.GeoDataFrame`, a subclass of `pandas.DataFrame`, that can store `geometry` columns and perform spatial operations. The `geopandas.GeoSeries`, a subclass of `pandas.Series`, handles the `geometries`. \n",
    "\n",
    "You can have as many columns with geometries as you wish; there’s no limit typical for desktop GIS software.\n",
    " \n",
    " "
   ]
  },
  {
   "cell_type": "code",
   "execution_count": null,
   "id": "963fa85c",
   "metadata": {},
   "outputs": [],
   "source": [
    "from IPython.display import Image\n",
    "from IPython.core.display import HTML \n",
    "Image(url= \"https://geopandas.org/en/stable/_images/dataframe.svg\")"
   ]
  },
  {
   "cell_type": "markdown",
   "id": "4fc5d244",
   "metadata": {},
   "source": [
    "Each `GeoSeries` can contain any `geometry type` (you can even mix them within a single array) and has a `GeoSeries.crs` attribute, which stores information about the projection (CRS stands for Coordinate Reference System). Therefore, each `GeoSeries` in a `GeoDataFrame` can be in a different projection, allowing you to have, for example, multiple versions (different projections) of the same `geometry`.\n",
    "\n",
    "Only one `GeoSeries` in a `GeoDataFrae` is considered the `active geometry`, which means that all geometric operations applied to a `GeoDataFrame` operate on this active column."
   ]
  },
  {
   "cell_type": "markdown",
   "id": "406c94dc",
   "metadata": {},
   "source": [
    "## Reading and writing files"
   ]
  },
  {
   "cell_type": "code",
   "execution_count": null,
   "id": "45f79da5",
   "metadata": {},
   "outputs": [],
   "source": [
    "import os \n",
    "import geopandas\n",
    "import pandas as pd"
   ]
  },
  {
   "cell_type": "markdown",
   "id": "320aa820",
   "metadata": {},
   "source": [
    "`geopandas.read_file()`"
   ]
  },
  {
   "cell_type": "code",
   "execution_count": null,
   "id": "2e0c8136",
   "metadata": {
    "scrolled": true
   },
   "outputs": [],
   "source": [
    "# Reading\n",
    "# # CHANGE TO YOUR PATH!!!\n",
    "path = '/Users/lukas/Work/prfuk/vyuka/erasmus_ml_geography/data/'\n",
    "filename = 'polygons.shp'\n",
    "path_fn = os.path.join(path, filename)\n",
    "gdf = geopandas.read_file(path_fn)"
   ]
  },
  {
   "cell_type": "code",
   "execution_count": null,
   "id": "8feedd0d",
   "metadata": {},
   "outputs": [],
   "source": [
    "gdf"
   ]
  },
  {
   "cell_type": "code",
   "execution_count": null,
   "id": "54e73628",
   "metadata": {
    "scrolled": true
   },
   "outputs": [],
   "source": [
    "gdf.head()"
   ]
  },
  {
   "cell_type": "code",
   "execution_count": null,
   "id": "e4850e00",
   "metadata": {},
   "outputs": [],
   "source": [
    "gdf['label2'] = gdf['label'] + 5"
   ]
  },
  {
   "cell_type": "code",
   "execution_count": null,
   "id": "c1f81310",
   "metadata": {
    "scrolled": true
   },
   "outputs": [],
   "source": [
    "gdf['label2']"
   ]
  },
  {
   "cell_type": "code",
   "execution_count": null,
   "id": "7b4a2eec",
   "metadata": {
    "scrolled": true
   },
   "outputs": [],
   "source": [
    "gdf.iloc[1]['note'] = 'debris'"
   ]
  },
  {
   "cell_type": "code",
   "execution_count": null,
   "id": "28ac4378",
   "metadata": {},
   "outputs": [],
   "source": [
    "gdf"
   ]
  },
  {
   "cell_type": "markdown",
   "id": "e42577dd",
   "metadata": {},
   "source": [
    "`GeoDataFrame.to_file()`\n",
    "\n",
    "The default file format is Shapefile, but you can specify your own with the driver keyword."
   ]
  },
  {
   "cell_type": "code",
   "execution_count": null,
   "id": "4ebab1db",
   "metadata": {},
   "outputs": [],
   "source": [
    "# writing\n",
    "# # CHANGE TO YOUR PATH!!!\n",
    "# path_lfs = '/Users/lukas/Work/prfuk/vyuka/erasmus_ml_geography/data/'\n",
    "gdf.to_file(os.path.join(path, 'my_polygons.geojson'), driver=\"GeoJSON\")"
   ]
  },
  {
   "cell_type": "markdown",
   "id": "928a0e3a",
   "metadata": {},
   "source": [
    "## Simple accessors and methods"
   ]
  },
  {
   "cell_type": "markdown",
   "id": "d62e5b9c",
   "metadata": {},
   "source": [
    "### Measuring area\n",
    "To measure the area of each polygon (or MultiPolygon in this specific case), access the GeoDataFrame.area attribute, which returns a pandas.Series. Note that `GeoDataFrame.area` is just `GeoSeries.area` applied to the active `geometry` column."
   ]
  },
  {
   "cell_type": "code",
   "execution_count": null,
   "id": "cfc92b1a",
   "metadata": {
    "scrolled": true
   },
   "outputs": [],
   "source": [
    "# add new attribute area\n",
    "gdf[\"area\"] = gdf.area / 1000000 # km2 \n",
    "gdf[\"area\"].head()"
   ]
  },
  {
   "cell_type": "code",
   "execution_count": null,
   "id": "c8c4bad6",
   "metadata": {},
   "outputs": [],
   "source": [
    "gdf"
   ]
  },
  {
   "cell_type": "markdown",
   "id": "e364af7e",
   "metadata": {},
   "source": [
    "### Getting polygon boundary and centroid"
   ]
  },
  {
   "cell_type": "code",
   "execution_count": null,
   "id": "f4806ada",
   "metadata": {},
   "outputs": [],
   "source": [
    "gdf['boundary'] = gdf.boundary\n",
    "gdf['boundary'] "
   ]
  },
  {
   "cell_type": "code",
   "execution_count": null,
   "id": "c07cc042",
   "metadata": {
    "scrolled": true
   },
   "outputs": [],
   "source": [
    "gdf['centroid'] = gdf.centroid\n",
    "gdf['centroid']"
   ]
  },
  {
   "cell_type": "code",
   "execution_count": null,
   "id": "638d3bb3",
   "metadata": {
    "scrolled": true
   },
   "outputs": [],
   "source": [
    "gdf"
   ]
  },
  {
   "cell_type": "code",
   "execution_count": null,
   "id": "4de52010",
   "metadata": {},
   "outputs": [],
   "source": [
    "gdf['centroid'].iloc[0].y"
   ]
  },
  {
   "cell_type": "code",
   "execution_count": null,
   "id": "6480ff0e",
   "metadata": {},
   "outputs": [],
   "source": [
    "# coordinates of the first centroid\n",
    "gdf['centroid'].iloc[0].x, gdf['centroid'].iloc[0].y"
   ]
  },
  {
   "cell_type": "markdown",
   "id": "712f5474",
   "metadata": {},
   "source": [
    "### Measuring distance"
   ]
  },
  {
   "cell_type": "code",
   "execution_count": null,
   "id": "afb15bcc",
   "metadata": {},
   "outputs": [],
   "source": [
    "first_point = gdf['centroid'].iloc[0]\n",
    "first_point.x"
   ]
  },
  {
   "cell_type": "code",
   "execution_count": null,
   "id": "b17fcaf1",
   "metadata": {},
   "outputs": [],
   "source": [
    "gdf['distance'] = gdf['centroid'].distance(first_point)\n",
    "gdf['distance']"
   ]
  },
  {
   "cell_type": "markdown",
   "id": "8f1a3903",
   "metadata": {},
   "source": [
    "## Plotting maps"
   ]
  },
  {
   "cell_type": "code",
   "execution_count": null,
   "id": "93ec8075",
   "metadata": {},
   "outputs": [],
   "source": [
    "gdf.plot(\"area\", legend=True, figsize=(10,10))"
   ]
  },
  {
   "cell_type": "markdown",
   "id": "df307a4b",
   "metadata": {},
   "source": [
    "## Geometry creation (constructor)"
   ]
  },
  {
   "cell_type": "code",
   "execution_count": null,
   "id": "cf585519",
   "metadata": {},
   "outputs": [],
   "source": [
    "gdf.head()"
   ]
  },
  {
   "cell_type": "code",
   "execution_count": null,
   "id": "6d5837fb",
   "metadata": {
    "scrolled": true
   },
   "outputs": [],
   "source": [
    "# prepare ne df with coordinates\n",
    "x = gdf['centroid'].x\n",
    "y = gdf['centroid'].y\n",
    "xy=pd.concat([x,y],axis=1)\n",
    "xy.columns = ['x', 'y']"
   ]
  },
  {
   "cell_type": "code",
   "execution_count": null,
   "id": "92e3365b",
   "metadata": {},
   "outputs": [],
   "source": [
    "xy"
   ]
  },
  {
   "cell_type": "code",
   "execution_count": null,
   "id": "7f89d52e",
   "metadata": {},
   "outputs": [],
   "source": [
    "xy_geometry = geopandas.GeoDataFrame(\n",
    "                xy, geometry=geopandas.points_from_xy(xy['x'], xy['y']))\n",
    "xy_geometry.head()"
   ]
  },
  {
   "cell_type": "markdown",
   "id": "fbf99d85",
   "metadata": {},
   "source": [
    "#### Buffer"
   ]
  },
  {
   "cell_type": "code",
   "execution_count": null,
   "id": "2a5e3104",
   "metadata": {},
   "outputs": [],
   "source": [
    "xy_geometry[\"buffer\"] = xy_geometry.buffer(1000)\n",
    "xy_geometry.head()"
   ]
  },
  {
   "cell_type": "code",
   "execution_count": null,
   "id": "e603641f",
   "metadata": {},
   "outputs": [],
   "source": [
    "ax = xy_geometry[\"buffer\"].plot(alpha=.5)\n",
    "xy_geometry[\"geometry\"].plot(ax=ax, color=\"red\") "
   ]
  },
  {
   "cell_type": "code",
   "execution_count": null,
   "id": "91f01937",
   "metadata": {},
   "outputs": [],
   "source": [
    "# and so on ... "
   ]
  },
  {
   "cell_type": "code",
   "execution_count": null,
   "id": "3d54d8ba",
   "metadata": {},
   "outputs": [],
   "source": []
  }
 ],
 "metadata": {
  "kernelspec": {
   "display_name": "Python 3 (ipykernel)",
   "language": "python",
   "name": "python3"
  },
  "language_info": {
   "codemirror_mode": {
    "name": "ipython",
    "version": 3
   },
   "file_extension": ".py",
   "mimetype": "text/x-python",
   "name": "python",
   "nbconvert_exporter": "python",
   "pygments_lexer": "ipython3",
   "version": "3.9.10"
  }
 },
 "nbformat": 4,
 "nbformat_minor": 5
}
