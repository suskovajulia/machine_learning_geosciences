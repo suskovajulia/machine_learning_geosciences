{
 "cells": [
  {
   "attachments": {},
   "cell_type": "markdown",
   "metadata": {},
   "source": [
    "# ___\n",
    "\n",
    "# [ Machine Learning in Geosciences ]\n",
    "\n",
    "\n",
    "---\n",
    "\n",
    "Lecturer: *Lukas Brodsky lukas.brodsky@natur.cuni.cz*\n",
    "\n",
    "**Department of Applied Geoinformatics and Carthography, Charles University** \n",
    "\n",
    "___"
   ]
  },
  {
   "cell_type": "markdown",
   "metadata": {},
   "source": [
    "# Rasterio\n",
    "\n",
    "Working with rasters in Python! "
   ]
  },
  {
   "cell_type": "markdown",
   "metadata": {},
   "source": [
    "## Documentation\n",
    "\n",
    "    \n",
    "Please refer to **[Rasterio official documentation](https://rasterio.readthedocs.io/en/stable/)**\n",
    "\n"
   ]
  },
  {
   "cell_type": "markdown",
   "metadata": {},
   "source": [
    "## 1. Reading raster"
   ]
  },
  {
   "cell_type": "markdown",
   "metadata": {},
   "source": [
    "### Library import"
   ]
  },
  {
   "cell_type": "code",
   "execution_count": null,
   "metadata": {},
   "outputs": [],
   "source": [
    "# ! pip install rasterio \n",
    "\n",
    "# https://rasterio.readthedocs.io/en/stable/installation.html\n",
    "# python -m pip install --user -U pip\n",
    "# GDAL_CONFIG=/path/to/gdal-config python -m pip install --user --no-binary rasterio rasterio\n"
   ]
  },
  {
   "cell_type": "code",
   "execution_count": null,
   "metadata": {},
   "outputs": [],
   "source": [
    "import os\n",
    "import rasterio\n",
    "import numpy as np\n",
    "print(rasterio.__version__)\n",
    "\n",
    "import matplotlib.pyplot as plt"
   ]
  },
  {
   "cell_type": "markdown",
   "metadata": {},
   "source": [
    "### Data"
   ]
  },
  {
   "cell_type": "code",
   "execution_count": null,
   "metadata": {},
   "outputs": [],
   "source": [
    "os.listdir()"
   ]
  },
  {
   "cell_type": "code",
   "execution_count": null,
   "metadata": {},
   "outputs": [],
   "source": [
    "# CHANGE TO YOUR PATH!!!\n",
    "path = '/Users/lukas/Work/prfuk/vyuka/erasmus_ml_geography/data/'\n",
    "# path = 'C:\\Downloads\\Machine Learning\\data' -> WRONG! \n",
    "# path = 'C:\\\\Downloads\\\\Machine_Learning\\\\data' -> GOOD \n",
    "filename = 'S2A_T33UVR_20180703T101029.tif'\n",
    "fnpath = os.path.join(path, filename)\n",
    "os.path.isfile(fnpath)"
   ]
  },
  {
   "cell_type": "code",
   "execution_count": null,
   "metadata": {},
   "outputs": [],
   "source": [
    "print(fnpath)"
   ]
  },
  {
   "cell_type": "code",
   "execution_count": null,
   "metadata": {
    "scrolled": true
   },
   "outputs": [],
   "source": [
    "# Read the iamge \n",
    "ds = rasterio.open(fnpath)\n",
    "ds"
   ]
  },
  {
   "cell_type": "markdown",
   "metadata": {},
   "source": [
    "### Metadata"
   ]
  },
  {
   "cell_type": "code",
   "execution_count": null,
   "metadata": {},
   "outputs": [],
   "source": [
    "print(f'Dataset: {ds}')\n",
    "print(f'Typ datasetu: {type(ds)}')"
   ]
  },
  {
   "cell_type": "code",
   "execution_count": null,
   "metadata": {},
   "outputs": [],
   "source": [
    "# Image metadata \n",
    "print(f'Bands: {ds.count}') # features for ML \n",
    "print(f'Image width: {ds.width}')\n",
    "print(f'Image height: {ds.height}')"
   ]
  },
  {
   "cell_type": "code",
   "execution_count": null,
   "metadata": {},
   "outputs": [],
   "source": [
    "# Raster file metadata \n",
    "meta = ds.meta\n",
    "print(type(meta))\n",
    "print('Metadata od the dataset: ...')\n",
    "for k in meta:\n",
    "    print(k, meta[k])"
   ]
  },
  {
   "cell_type": "code",
   "execution_count": null,
   "metadata": {},
   "outputs": [],
   "source": [
    "# Bbox\n",
    "print(f'Bbox: {ds.bounds}')"
   ]
  },
  {
   "cell_type": "code",
   "execution_count": null,
   "metadata": {},
   "outputs": [],
   "source": [
    "# Transformation parameters \n",
    "# print(f'Geotransformation parameters: {ds.transform}')"
   ]
  },
  {
   "cell_type": "markdown",
   "metadata": {},
   "source": [
    "### Reading bands and applying map algebra \n",
    "(to be replaced by Machine Learning modelling in the next tasks)"
   ]
  },
  {
   "cell_type": "code",
   "execution_count": null,
   "metadata": {},
   "outputs": [],
   "source": [
    "B1 = ds.read(1)\n",
    "print(f'Typ pole hodnot: {type(B1)}')"
   ]
  },
  {
   "cell_type": "code",
   "execution_count": null,
   "metadata": {},
   "outputs": [],
   "source": [
    "B1.shape"
   ]
  },
  {
   "cell_type": "code",
   "execution_count": null,
   "metadata": {},
   "outputs": [],
   "source": [
    "import matplotlib.pyplot as plt"
   ]
  },
  {
   "cell_type": "code",
   "execution_count": null,
   "metadata": {},
   "outputs": [],
   "source": [
    "plt.imshow(B1, vmin=0, vmax=40, cmap='gray') \n",
    "plt.colorbar() "
   ]
  },
  {
   "cell_type": "code",
   "execution_count": null,
   "metadata": {},
   "outputs": [],
   "source": []
  },
  {
   "cell_type": "code",
   "execution_count": null,
   "metadata": {},
   "outputs": [],
   "source": [
    "# Read more bands and calculate NDVI\n",
    "RED = ds.read(3).astype(np.float32) \n",
    "NIR = ds.read(4).astype(np.float32)\n",
    "print(f'Data type: {RED.dtype}')"
   ]
  },
  {
   "cell_type": "code",
   "execution_count": null,
   "metadata": {},
   "outputs": [],
   "source": [
    "RED"
   ]
  },
  {
   "cell_type": "code",
   "execution_count": null,
   "metadata": {},
   "outputs": [],
   "source": [
    "# NDVI calculation\n",
    "NDVI = (NIR - RED) / (NIR + RED)\n",
    "print(type(NDVI))\n",
    "print(NDVI.min(), NDVI.max())"
   ]
  },
  {
   "cell_type": "code",
   "execution_count": null,
   "metadata": {},
   "outputs": [],
   "source": [
    "plt.imshow(NDVI, vmin=0.0, vmax=0.8)\n",
    "plt.colorbar()"
   ]
  },
  {
   "cell_type": "markdown",
   "metadata": {},
   "source": [
    "## 2. Writing raster file "
   ]
  },
  {
   "cell_type": "code",
   "execution_count": null,
   "metadata": {},
   "outputs": [],
   "source": [
    "# prepare metadata\n",
    "meta = ds.meta\n",
    "print(f'Metadata datasetu: {meta}')"
   ]
  },
  {
   "cell_type": "code",
   "execution_count": null,
   "metadata": {},
   "outputs": [],
   "source": [
    "# update what is needed\n",
    "meta[\"dtype\"] = \"float32\"\n",
    "meta['count'] = 1 # 1 band"
   ]
  },
  {
   "cell_type": "code",
   "execution_count": null,
   "metadata": {},
   "outputs": [],
   "source": [
    "print(f'Metadata datasetu: {meta}')"
   ]
  },
  {
   "cell_type": "code",
   "execution_count": null,
   "metadata": {},
   "outputs": [],
   "source": [
    "# write the raster \n",
    "out_pthfn = os.path.join(path, 'Sentinel-2_ndvi.tif')\n",
    "\n",
    "with rasterio.open(out_pthfn, 'w', **meta) as dst:\n",
    "    dst.write_band(1, NDVI) "
   ]
  },
  {
   "cell_type": "code",
   "execution_count": null,
   "metadata": {
    "scrolled": true
   },
   "outputs": [],
   "source": [
    "if os.path.isfile(out_pthfn):\n",
    "    print('File Sentinel-2_ndvi.tif is written to the filesystem.')\n",
    "    print(f\"The size is: {os.path.getsize(out_pthfn) / 1000000} MB.\")\n"
   ]
  },
  {
   "cell_type": "code",
   "execution_count": null,
   "metadata": {},
   "outputs": [],
   "source": []
  }
 ],
 "metadata": {
  "kernelspec": {
   "display_name": "Python 3 (ipykernel)",
   "language": "python",
   "name": "python3"
  },
  "language_info": {
   "codemirror_mode": {
    "name": "ipython",
    "version": 3
   },
   "file_extension": ".py",
   "mimetype": "text/x-python",
   "name": "python",
   "nbconvert_exporter": "python",
   "pygments_lexer": "ipython3",
   "version": "3.9.10"
  }
 },
 "nbformat": 4,
 "nbformat_minor": 1
}
