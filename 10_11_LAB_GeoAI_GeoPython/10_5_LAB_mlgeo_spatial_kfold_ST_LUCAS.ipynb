{
 "cells": [
  {
   "cell_type": "markdown",
   "id": "166c13e9",
   "metadata": {},
   "source": [
    "# ___\n",
    "\n",
    "# [ Machine Learning in Geosciences ]\n",
    "\n",
    "**Department of Applied Geoinformatics and Carthography, Charles University** \n",
    "\n",
    "*Lukas Brodsky lukas.brodsky@natur.cuni.cz*\n"
   ]
  },
  {
   "cell_type": "markdown",
   "id": "01b20bf5",
   "metadata": {},
   "source": [
    "## Spatial Cross-Validation \n",
    "\n",
    "using K-Means clusterring and random and spatial resampling (spatial-kfold Python package). \n",
    "\n",
    "    1. Spatial clustering with KMeans\n",
    "    2. Spatial Blocks\n",
    "        2.1 Spatial resampled random blocks     \n",
    "        2.2 Continuous spatial resampled blocks\n",
    "    3. Plotting function "
   ]
  },
  {
   "cell_type": "code",
   "execution_count": null,
   "id": "1a184626",
   "metadata": {},
   "outputs": [],
   "source": [
    "# spatial k-fold package \n",
    "# !pip install spatial-kfold"
   ]
  },
  {
   "cell_type": "code",
   "execution_count": null,
   "id": "c3003ad7",
   "metadata": {},
   "outputs": [],
   "source": [
    "import os\n",
    "import numpy as np\n",
    "import geopandas as gpd\n",
    "import matplotlib.pyplot as plt\n",
    "from matplotlib import cm\n",
    "import matplotlib.colors as colors\n",
    "from matplotlib.colors import ListedColormap, LinearSegmentedColormap\n",
    "from mpl_toolkits.axes_grid1.inset_locator import inset_axes\n",
    "\n",
    "from spatialkfold.blocks import spatial_blocks \n",
    "from spatialkfold.datasets import load_ames\n",
    "from spatialkfold.clusters import spatial_kfold_clusters \n",
    "from spatialkfold.plotting import spatial_kfold_plot\n",
    "from spatialkfold.stats import spatial_kfold_stats"
   ]
  },
  {
   "cell_type": "code",
   "execution_count": null,
   "id": "78e3ae28",
   "metadata": {},
   "outputs": [],
   "source": [
    "os.listdir()"
   ]
  },
  {
   "cell_type": "code",
   "execution_count": null,
   "id": "b5ecd040",
   "metadata": {},
   "outputs": [],
   "source": [
    "# Load ST_LUCAS data\n",
    "path = './data'\n",
    "lucas_fn = os.path.join(path, 'cz_lucas_points_2018.gpkg')\n",
    "lucas = gpd.read_file(lucas_fn)"
   ]
  },
  {
   "cell_type": "code",
   "execution_count": null,
   "id": "3cbf189d",
   "metadata": {},
   "outputs": [],
   "source": [
    "lucas.head()"
   ]
  },
  {
   "cell_type": "code",
   "execution_count": null,
   "id": "87fb82fe",
   "metadata": {
    "scrolled": true
   },
   "outputs": [],
   "source": [
    "lucas.plot(markersize=1)"
   ]
  },
  {
   "cell_type": "code",
   "execution_count": null,
   "id": "0827e5e9",
   "metadata": {},
   "outputs": [],
   "source": [
    "lucas.crs"
   ]
  },
  {
   "cell_type": "markdown",
   "id": "b25c80e5",
   "metadata": {},
   "source": [
    "## 1. Spatial clustering with KMeans"
   ]
  },
  {
   "cell_type": "code",
   "execution_count": null,
   "id": "7ff12c94",
   "metadata": {},
   "outputs": [],
   "source": [
    "# 1. Spatial cluster resampling \n",
    "lucas_clusters = spatial_kfold_clusters(gdf=lucas, name='point_id', nfolds=10, \n",
    "                                       algorithm='kmeans', random_state=42) \n"
   ]
  },
  {
   "cell_type": "code",
   "execution_count": null,
   "id": "c7102645",
   "metadata": {
    "scrolled": true
   },
   "outputs": [],
   "source": [
    "lucas_clusters.head()"
   ]
  },
  {
   "cell_type": "code",
   "execution_count": null,
   "id": "d75d7a0c",
   "metadata": {},
   "outputs": [],
   "source": [
    "# Get the 'tab20' colormap\n",
    "cols_tab = cm.get_cmap('tab20', 10)\n",
    "# Generate a list of colors from the colormap\n",
    "cols = [cols_tab(i) for i in range(10)]\n",
    "# create a color ramp\n",
    "color_ramp = ListedColormap(cols)"
   ]
  },
  {
   "cell_type": "code",
   "execution_count": null,
   "id": "16bfc008",
   "metadata": {},
   "outputs": [],
   "source": [
    "# Plot \n",
    "fig, ax = plt.subplots(1,1 , figsize=(9, 4)) \n",
    "lucas_clusters.plot(column='folds', ax=ax, cmap= color_ramp, markersize = 2, legend=True)\n",
    "ax.set_title('Spatially Clustered Folds')\n",
    "plt.show()"
   ]
  },
  {
   "cell_type": "code",
   "execution_count": null,
   "id": "f549b680",
   "metadata": {},
   "outputs": [],
   "source": [
    "# check the number of train and test of the dependent variable for each fold\n",
    "# lc1 attribute .. LUCAS Land Cover classification \n",
    "lucas_clusters_stats = spatial_kfold_stats(X=lucas_clusters, y= lucas_clusters.lc1, \n",
    "                                          groups = lucas_clusters.folds)"
   ]
  },
  {
   "cell_type": "code",
   "execution_count": null,
   "id": "c580c4da",
   "metadata": {
    "scrolled": true
   },
   "outputs": [],
   "source": [
    "lucas_clusters_stats"
   ]
  },
  {
   "cell_type": "markdown",
   "id": "f0db7809",
   "metadata": {},
   "source": [
    "## 2. Spatial Blocks"
   ]
  },
  {
   "cell_type": "markdown",
   "id": "1ecfb55d",
   "metadata": {},
   "source": [
    "### 2.1 spatial resampled random blocks  "
   ]
  },
  {
   "cell_type": "code",
   "execution_count": null,
   "id": "626f9baf",
   "metadata": {},
   "outputs": [],
   "source": [
    "# create 10 random blocks \n",
    "lucas_rnd_blocks = spatial_blocks(gdf=lucas, width=25000, height=25000, \n",
    "                                 method='random', nfolds=10, \n",
    "                                 random_state=42)"
   ]
  },
  {
   "cell_type": "code",
   "execution_count": null,
   "id": "3705eb80",
   "metadata": {
    "scrolled": true
   },
   "outputs": [],
   "source": [
    "lucas_rnd_blocks.head()"
   ]
  },
  {
   "cell_type": "code",
   "execution_count": null,
   "id": "e421458a",
   "metadata": {
    "scrolled": true
   },
   "outputs": [],
   "source": [
    "fig, ax = plt.subplots(1,1 , figsize=(9, 4)) \n",
    "\n",
    "lucas_rnd_blocks.plot(column = 'folds',cmap = color_ramp, ax = ax ,lw=0.7, legend = True)\n",
    "lucas.plot(ax=ax,  markersize = 1, color = 'r')\n",
    "ax.set_title('Random Blocks Folds')"
   ]
  },
  {
   "cell_type": "code",
   "execution_count": null,
   "id": "4fbcde3d",
   "metadata": {},
   "outputs": [],
   "source": [
    "# Resample the ames data with the prepared blocks "
   ]
  },
  {
   "cell_type": "code",
   "execution_count": null,
   "id": "153fe78c",
   "metadata": {},
   "outputs": [],
   "source": [
    "lucas_res_rnd_blk = gpd.overlay(lucas, lucas_rnd_blocks)"
   ]
  },
  {
   "cell_type": "code",
   "execution_count": null,
   "id": "8e816f8b",
   "metadata": {},
   "outputs": [],
   "source": [
    "lucas_res_rnd_blk.head()"
   ]
  },
  {
   "cell_type": "code",
   "execution_count": null,
   "id": "56451358",
   "metadata": {},
   "outputs": [],
   "source": [
    "# plot the resampled blocks\n",
    "fig, ax = plt.subplots(1,1 , figsize=(9, 4)) \n",
    "\n",
    "lucas_rnd_blocks.plot(facecolor=\"none\",edgecolor='grey', ax = ax ,lw=0.7)\n",
    "lucas_res_rnd_blk.plot(column = 'folds', cmap = color_ramp,legend = True, ax = ax, markersize = 3)\n",
    "ax.set_title('Spatially Resampled\\nRandom Blocks')"
   ]
  },
  {
   "cell_type": "code",
   "execution_count": null,
   "id": "1b02c372",
   "metadata": {},
   "outputs": [],
   "source": [
    "\n",
    "lucas_res_rnd_blk_stats = spatial_kfold_stats(X=lucas_res_rnd_blk, y= lucas_res_rnd_blk.lc1, \n",
    "                                             groups = lucas_res_rnd_blk.folds)\n"
   ]
  },
  {
   "cell_type": "code",
   "execution_count": null,
   "id": "691d416e",
   "metadata": {},
   "outputs": [],
   "source": [
    "lucas_res_rnd_blk_stats"
   ]
  },
  {
   "cell_type": "markdown",
   "id": "94131662",
   "metadata": {},
   "source": [
    "### 2.2 Continuous spatial resampled blocks\n",
    "Two option are availble with orientation :\n",
    "\n",
    "'tb-lr' : top-bottom, left-right\n",
    "\n",
    "'bt-rl' : bottom-top, right-left"
   ]
  },
  {
   "cell_type": "code",
   "execution_count": null,
   "id": "0597b99e",
   "metadata": {},
   "outputs": [],
   "source": [
    "lucas_cont_blocks = spatial_blocks(gdf=lucas, width=25000, height=25000, \n",
    "                                  method='continuous', orientation='tb-lr' ,\n",
    "                                  nfolds=10, random_state=42)"
   ]
  },
  {
   "cell_type": "code",
   "execution_count": null,
   "id": "09f341c5",
   "metadata": {},
   "outputs": [],
   "source": [
    "fig, ax = plt.subplots(1,1 , figsize=(9, 4)) \n",
    "\n",
    "lucas_cont_blocks.plot(column = 'folds',cmap = color_ramp, ax = ax ,lw=0.7, legend = True)\n",
    "lucas.plot(ax=ax,  markersize = 1, color = 'r')\n",
    "ax.set_title('Continuous Blocks Folds\\norientation:\"tb-lr\"')"
   ]
  },
  {
   "cell_type": "code",
   "execution_count": null,
   "id": "2701bd1b",
   "metadata": {},
   "outputs": [],
   "source": [
    "# resample the ames data with the prepared blocks \n",
    "lucas_res_cont_blk = gpd.overlay(lucas, lucas_cont_blocks)"
   ]
  },
  {
   "cell_type": "code",
   "execution_count": null,
   "id": "8e91603f",
   "metadata": {},
   "outputs": [],
   "source": [
    "fig, ax = plt.subplots(1,1 , figsize=(9, 4)) \n",
    "\n",
    "lucas_cont_blocks.plot(facecolor=\"none\",edgecolor='grey', ax = ax ,lw=0.7)\n",
    "lucas_res_cont_blk.plot(column = 'folds', cmap = color_ramp,legend = True, ax = ax, markersize = 2)\n",
    "ax.set_title('Spatially Resampled\\nContinuous Blocks Folds. \"tb-lr\"')\n",
    "plt.show()"
   ]
  },
  {
   "cell_type": "code",
   "execution_count": null,
   "id": "cda5dda0",
   "metadata": {},
   "outputs": [],
   "source": [
    "lucas_res_cont_blk_stats = spatial_kfold_stats(X=lucas_res_cont_blk, y=lucas_res_cont_blk.lc1, \n",
    "                                              groups=lucas_res_cont_blk.folds)"
   ]
  },
  {
   "cell_type": "code",
   "execution_count": null,
   "id": "5e47bac2",
   "metadata": {},
   "outputs": [],
   "source": [
    "lucas_res_cont_blk_stats"
   ]
  },
  {
   "cell_type": "markdown",
   "id": "9729224f",
   "metadata": {},
   "source": [
    "## 3. Plotting function\n",
    "Plot the partitioning of the data at each fold"
   ]
  },
  {
   "cell_type": "code",
   "execution_count": null,
   "id": "6d0c3346",
   "metadata": {},
   "outputs": [],
   "source": [
    "# check the folds number \n",
    "np.unique(lucas_clusters.folds.values)"
   ]
  },
  {
   "cell_type": "code",
   "execution_count": null,
   "id": "288837dd",
   "metadata": {},
   "outputs": [],
   "source": [
    "for i in range(1,11):\n",
    "    fig, ax = plt.subplots(1,1 , figsize=(9, 4))\n",
    "\n",
    "    spatial_kfold_plot(X=lucas_clusters, \n",
    "                       geometry=lucas_clusters.geometry, \n",
    "                       groups=lucas_clusters.folds, \n",
    "                       fold_num=i, cmap='viridis', ax=ax)    "
   ]
  }
 ],
 "metadata": {
  "kernelspec": {
   "display_name": "Python 3 (ipykernel)",
   "language": "python",
   "name": "python3"
  },
  "language_info": {
   "codemirror_mode": {
    "name": "ipython",
    "version": 3
   },
   "file_extension": ".py",
   "mimetype": "text/x-python",
   "name": "python",
   "nbconvert_exporter": "python",
   "pygments_lexer": "ipython3",
   "version": "3.9.10"
  }
 },
 "nbformat": 4,
 "nbformat_minor": 5
}
