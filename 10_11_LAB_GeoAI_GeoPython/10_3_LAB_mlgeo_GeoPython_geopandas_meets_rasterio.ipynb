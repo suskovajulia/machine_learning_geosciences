{
 "cells": [
  {
   "attachments": {},
   "cell_type": "markdown",
   "id": "fa7601d0",
   "metadata": {},
   "source": [
    "# ___\n",
    "\n",
    "# [ Machine Learning in Geosciences ]\n",
    "\n",
    "\n",
    "\n",
    "Lecturer: *Lukas Brodsky lukas.brodsky@natur.cuni.cz*\n",
    "\n",
    "**Department of Applied Geoinformatics and Carthography, Charles University** \n",
    "\n",
    "___"
   ]
  },
  {
   "cell_type": "markdown",
   "id": "ba50ec0f",
   "metadata": {},
   "source": [
    "## GeoPandas & Rasterio"
   ]
  },
  {
   "cell_type": "markdown",
   "id": "809757c7",
   "metadata": {},
   "source": [
    "This notebook demonstrates how to combine vectors and rasters in Python workflow. "
   ]
  },
  {
   "cell_type": "markdown",
   "id": "406c94dc",
   "metadata": {},
   "source": [
    "## Rasterizing poylgons"
   ]
  },
  {
   "cell_type": "code",
   "execution_count": null,
   "id": "45f79da5",
   "metadata": {},
   "outputs": [],
   "source": [
    "import os \n",
    "import geopandas as gpd \n",
    "import rasterio as rio\n",
    "from rasterio import features\n",
    "import numpy as np \n",
    "\n",
    "import matplotlib.pyplot as plt \n",
    "%matplotlib inline"
   ]
  },
  {
   "cell_type": "code",
   "execution_count": null,
   "id": "2e0c8136",
   "metadata": {
    "scrolled": true
   },
   "outputs": [],
   "source": [
    "# Reading vector \n",
    "# CHANGE TO YOUR PATH!!!\n",
    "path = '/Users/lukas/Work/prfuk/vyuka/erasmus_ml_geography/data/'\n",
    "filename = 'polygons.shp'\n",
    "path_fn_vec = os.path.join(path, filename)\n",
    "gdf = gpd.read_file(path_fn_vec)"
   ]
  },
  {
   "cell_type": "code",
   "execution_count": null,
   "id": "a2d90466",
   "metadata": {
    "scrolled": false
   },
   "outputs": [],
   "source": [
    "gdf.head()"
   ]
  },
  {
   "cell_type": "code",
   "execution_count": null,
   "id": "2eef7143",
   "metadata": {},
   "outputs": [],
   "source": [
    "geometry = gdf['geometry'] "
   ]
  },
  {
   "cell_type": "code",
   "execution_count": null,
   "id": "0ed3d492",
   "metadata": {},
   "outputs": [],
   "source": [
    "geometry"
   ]
  },
  {
   "cell_type": "code",
   "execution_count": null,
   "id": "77efa994",
   "metadata": {},
   "outputs": [],
   "source": [
    "# Reading example raster \n",
    "raster_filename = 'landsat.tif' \n",
    "path_fn_ras = os.path.join(path, raster_filename)\n",
    "ds = rio.open(path_fn_ras)\n",
    "ds"
   ]
  },
  {
   "cell_type": "code",
   "execution_count": null,
   "id": "996a1ee4",
   "metadata": {},
   "outputs": [],
   "source": [
    "# Raster file metadata \n",
    "meta = ds.meta\n",
    "print(type(meta))\n",
    "print('Metadata od the dataset: ...')\n",
    "for k in meta:\n",
    "    print(k, meta[k])"
   ]
  },
  {
   "cell_type": "code",
   "execution_count": null,
   "id": "8d789b0d",
   "metadata": {},
   "outputs": [],
   "source": [
    "meta['width']"
   ]
  },
  {
   "cell_type": "code",
   "execution_count": null,
   "id": "3fc2080e",
   "metadata": {},
   "outputs": [],
   "source": [
    "meta['count'] = 1"
   ]
  },
  {
   "cell_type": "code",
   "execution_count": null,
   "id": "f90d9f01",
   "metadata": {},
   "outputs": [],
   "source": [
    "meta"
   ]
  },
  {
   "cell_type": "code",
   "execution_count": null,
   "id": "421fd7c6",
   "metadata": {},
   "outputs": [],
   "source": [
    "# out filename \n",
    "out_fn_ras = os.path.join(path, 'rasterized_poly.tif')"
   ]
  },
  {
   "cell_type": "code",
   "execution_count": null,
   "id": "56181524",
   "metadata": {},
   "outputs": [],
   "source": [
    "# write the raster \n",
    "with rio.open(out_fn_ras, 'w+', **meta) as out:\n",
    "    out_arr = out.read(1)\n",
    "\n",
    "    # this is where we create a generator of geom, value pairs to use in rasterizing\n",
    "    shapes = ((geom, value) for geom, value in zip(gdf.geometry, gdf.label))\n",
    "\n",
    "    burned = features.rasterize(shapes=shapes, fill=0, out=out_arr, transform=out.transform)\n",
    "    out.write_band(1, burned)\n"
   ]
  },
  {
   "cell_type": "code",
   "execution_count": null,
   "id": "27019676",
   "metadata": {},
   "outputs": [],
   "source": [
    "os.path.isfile(out_fn_ras)"
   ]
  },
  {
   "cell_type": "code",
   "execution_count": null,
   "id": "956a9af2",
   "metadata": {},
   "outputs": [],
   "source": [
    "# Check the rasterization! \n",
    "rio_ds = rio.open(out_fn_ras)\n",
    "rio_arr = rio_ds.read(1)\n",
    "rio_arr.shape"
   ]
  },
  {
   "cell_type": "code",
   "execution_count": null,
   "id": "6110dffd",
   "metadata": {},
   "outputs": [],
   "source": [
    "plt.imshow(rio_arr)\n",
    "plt.colorbar()"
   ]
  },
  {
   "cell_type": "code",
   "execution_count": null,
   "id": "c9438e3e",
   "metadata": {},
   "outputs": [],
   "source": [
    "np.unique(rio_arr)"
   ]
  },
  {
   "cell_type": "code",
   "execution_count": null,
   "id": "e1fffd60",
   "metadata": {},
   "outputs": [],
   "source": [
    "B1 = ds.read(1)\n",
    "plt.imshow(B1, cmap='gray')\n",
    "plt.colorbar()"
   ]
  },
  {
   "cell_type": "markdown",
   "id": "ba286414",
   "metadata": {},
   "source": [
    "### Raster Vector overlay \n"
   ]
  },
  {
   "cell_type": "code",
   "execution_count": null,
   "id": "8e5113ff",
   "metadata": {},
   "outputs": [],
   "source": [
    "# bands\n",
    "ds.indexes"
   ]
  },
  {
   "cell_type": "code",
   "execution_count": null,
   "id": "2ca1b595",
   "metadata": {},
   "outputs": [],
   "source": [
    "image_arr = np.dstack([ds.read(b) for b in ds.indexes])"
   ]
  },
  {
   "cell_type": "code",
   "execution_count": null,
   "id": "ce96f863",
   "metadata": {},
   "outputs": [],
   "source": [
    "image_arr.shape"
   ]
  },
  {
   "cell_type": "code",
   "execution_count": null,
   "id": "c3385b6d",
   "metadata": {},
   "outputs": [],
   "source": [
    "rio_arr.shape "
   ]
  },
  {
   "cell_type": "code",
   "execution_count": null,
   "id": "3e99f31b",
   "metadata": {},
   "outputs": [],
   "source": [
    "image_arr.shape"
   ]
  },
  {
   "cell_type": "code",
   "execution_count": null,
   "id": "b11bee5f",
   "metadata": {
    "scrolled": true
   },
   "outputs": [],
   "source": [
    "# Display them\n",
    "plt.subplot(131)\n",
    "plt.imshow(image_arr[:, :, 2], cmap=plt.cm.Greys_r)\n",
    "plt.title('Red band')\n",
    "\n",
    "plt.subplot(132)\n",
    "plt.imshow(image_arr[:, :, 5], cmap=plt.cm.Greys_r)\n",
    "plt.title('SWIR band')\n",
    "\n",
    "plt.subplot(133)\n",
    "plt.imshow(rio_arr, cmap=plt.cm.Spectral, interpolation='nearest')\n",
    "plt.title('ROI Training Data')\n",
    "\n",
    "plt.show()"
   ]
  },
  {
   "attachments": {
    "image.png": {
     "image/png": "[encoded data removed]"
    }
   },
   "cell_type": "markdown",
   "id": "aef9413a",
   "metadata": {},
   "source": [
    "![image.png](attachment:image.png)"
   ]
  },
  {
   "cell_type": "code",
   "execution_count": null,
   "id": "ad4b8940",
   "metadata": {},
   "outputs": [],
   "source": [
    "rio_arr.shape"
   ]
  },
  {
   "cell_type": "code",
   "execution_count": null,
   "id": "f0e2f4ca",
   "metadata": {},
   "outputs": [],
   "source": [
    "flattened_rio = rio_arr[rio_arr > 0]\n",
    "flattened_rio.shape"
   ]
  },
  {
   "cell_type": "code",
   "execution_count": null,
   "id": "84a60b0f",
   "metadata": {},
   "outputs": [],
   "source": [
    "image_arr[rio_arr > 0, :].shape"
   ]
  },
  {
   "cell_type": "code",
   "execution_count": null,
   "id": "7752dfdf",
   "metadata": {},
   "outputs": [],
   "source": [
    "# my data for Machine Learning \n",
    "X = image_arr[rio_arr > 0, :] \n",
    "y = rio_arr[rio_arr > 0]"
   ]
  },
  {
   "cell_type": "code",
   "execution_count": null,
   "id": "f871516f",
   "metadata": {},
   "outputs": [],
   "source": [
    "# X.shape"
   ]
  },
  {
   "cell_type": "code",
   "execution_count": null,
   "id": "a1d63960",
   "metadata": {
    "scrolled": true
   },
   "outputs": [],
   "source": [
    "print('Our X matrix is sized: {sz}'.format(sz=X.shape))\n",
    "print('Our y array is sized: {sz}'.format(sz=y.shape))"
   ]
  }
 ],
 "metadata": {
  "kernelspec": {
   "display_name": "Python 3 (ipykernel)",
   "language": "python",
   "name": "python3"
  },
  "language_info": {
   "codemirror_mode": {
    "name": "ipython",
    "version": 3
   },
   "file_extension": ".py",
   "mimetype": "text/x-python",
   "name": "python",
   "nbconvert_exporter": "python",
   "pygments_lexer": "ipython3",
   "version": "3.9.10"
  }
 },
 "nbformat": 4,
 "nbformat_minor": 5
}
