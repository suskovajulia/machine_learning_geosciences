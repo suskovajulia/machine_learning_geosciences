{
 "cells": [
  {
   "cell_type": "markdown",
   "id": "597df42f",
   "metadata": {},
   "source": [
    "# ___\n",
    "\n",
    "# [ Machine Learning in Geosciences ]\n",
    "\n",
    "**Department of Applied Geoinformatics and Carthography, Charles University** \n",
    "\n",
    "*Lukas Brodsky lukas.brodsky@natur.cuni.cz*\n",
    "\n"
   ]
  },
  {
   "cell_type": "markdown",
   "id": "0fd3b679",
   "metadata": {},
   "source": [
    "## Gradient Descent - exerscises\n",
    "\n",
    "Task: **fix the gradient descent optimisation** for different data set. The steps of GD are the same. \n",
    "\n",
    "\n",
    "**Sub-tasks**:\n",
    "\n",
    "1/ Improve the Gradient descent function: store history of loss. \n",
    "\n",
    "2/ Plot the loss against the epoches. \n",
    "\n",
    "3/ Store the history of w and b paramseters.  \n",
    "\n",
    "4/ Plot w and b against the epochs  \n"
   ]
  },
  {
   "cell_type": "code",
   "execution_count": null,
   "id": "6bb022f0",
   "metadata": {},
   "outputs": [],
   "source": [
    "import os\n",
    "import numpy as np\n",
    "import pandas as pd \n",
    "import matplotlib.pyplot as plt\n",
    "import matplotlib\n",
    "matplotlib.rcParams.update({'font.size': 16})"
   ]
  },
  {
   "cell_type": "markdown",
   "id": "8ec91387",
   "metadata": {},
   "source": [
    "### Data \n",
    "\n",
    "Use `data_gd.csv`,  fetature `f1` from the dataset. \n"
   ]
  },
  {
   "cell_type": "code",
   "execution_count": null,
   "id": "6c770ab2",
   "metadata": {},
   "outputs": [],
   "source": [
    "# os.listdir()"
   ]
  },
  {
   "cell_type": "code",
   "execution_count": null,
   "id": "b009cb3e",
   "metadata": {},
   "outputs": [],
   "source": [
    "# Adjust dir path as needed \n",
    "df = pd.read_csv('data_gd.csv', sep=',', header='infer')"
   ]
  },
  {
   "cell_type": "code",
   "execution_count": null,
   "id": "04df4292",
   "metadata": {},
   "outputs": [],
   "source": [
    "x = df['f1']\n",
    "y = df['y']"
   ]
  },
  {
   "cell_type": "code",
   "execution_count": null,
   "id": "8502d74c",
   "metadata": {
    "scrolled": true
   },
   "outputs": [],
   "source": [
    "# Data plot \n",
    "plt.scatter(x, y)"
   ]
  },
  {
   "cell_type": "markdown",
   "id": "d046606a",
   "metadata": {},
   "source": [
    "### Task\n",
    "Build a regression model to predict `y` based on other `x`values."
   ]
  },
  {
   "cell_type": "code",
   "execution_count": null,
   "id": "3c20eb2d",
   "metadata": {},
   "outputs": [],
   "source": [
    "print(\"We have {} records to tranin the model.\".format(x.size))"
   ]
  },
  {
   "cell_type": "markdown",
   "id": "f0e84813",
   "metadata": {},
   "source": [
    "### Model: linear regression\n",
    "\n",
    " \n",
    "$$ \n",
    "    f(x) = wx + b\n",
    "$$ \n",
    "\n",
    "where `x` is a vector of input features;\n",
    "`y` is a vector of outputs (targets), also response variable; \n",
    "`b` is the bias term (intercept), also often abbreviated as w0\n",
    "`w` is the weight(s) (direction of the linear model) \n",
    "\n",
    "Find the optimal values of `w` and `b`!\n",
    "\n"
   ]
  },
  {
   "cell_type": "code",
   "execution_count": null,
   "id": "94bad6f3",
   "metadata": {},
   "outputs": [],
   "source": [
    "# Prediction model\n",
    "def model(x, w, b):\n",
    "    \"\"\"Linear model\n",
    "    \"\"\"\n",
    "    \n",
    "    return w*x + b  "
   ]
  },
  {
   "cell_type": "markdown",
   "id": "d82a122a",
   "metadata": {},
   "source": [
    "### Loss function (MSE)"
   ]
  },
  {
   "cell_type": "markdown",
   "id": "fb5cfaca",
   "metadata": {},
   "source": [
    "$$\n",
    "    Loss = L = \\frac{1}{N} \\sum_{i=1}^{N}(y_i - (wx_i + b))^2 \n",
    "$$ "
   ]
  },
  {
   "cell_type": "code",
   "execution_count": null,
   "id": "a606bebe",
   "metadata": {},
   "outputs": [],
   "source": [
    "# Define the loss function \n",
    "def loss(x, y, w, b):\n",
    "    \"\"\"Loss function (MSE)  \n",
    "    \"\"\"\n",
    "    N = len(x)\n",
    "\n",
    "    # Initialize loss\n",
    "    total_error = 0.0 \n",
    "    for i in range(N):\n",
    "        total_error += (y[i] - (w*x[i] + b))**2\n",
    "\n",
    "    return total_error / N \n"
   ]
  },
  {
   "cell_type": "markdown",
   "id": "599c8461",
   "metadata": {},
   "source": [
    "### Set parameters"
   ]
  },
  {
   "cell_type": "code",
   "execution_count": null,
   "id": "0194c23c",
   "metadata": {},
   "outputs": [],
   "source": [
    "# Learning rate (here alpha) \n",
    "alpha = 0.001 \n",
    "\n",
    "# Number of epochs to iterate \n",
    "epochs = 15000"
   ]
  },
  {
   "cell_type": "markdown",
   "id": "57bdae65",
   "metadata": {},
   "source": [
    "### Model weights initialisation"
   ]
  },
  {
   "cell_type": "code",
   "execution_count": null,
   "id": "9222bf63",
   "metadata": {},
   "outputs": [],
   "source": [
    "# Initialization\n",
    "w = 0 \n",
    "b = 0 "
   ]
  },
  {
   "cell_type": "markdown",
   "id": "24da8955",
   "metadata": {},
   "source": [
    "### Calcualte the gradinets\n",
    "\n",
    "\n",
    "$$\n",
    "\\frac{\\partial L}{\\partial w}=\\frac{1}{N} \\sum_{i=1}^{N}(2\\cdot(y_i - (wx_i + b))\\cdot(-x_i);\n",
    "$$ \n",
    "\n",
    "$$\n",
    "\\frac{\\partial L}{\\partial b}=\\frac{1}{N} \\sum_{i=1}^{N}(2\\cdot(y_i - (wx_i + b))\\cdot(-1);\n",
    "$$ \n",
    "\n"
   ]
  },
  {
   "cell_type": "markdown",
   "id": "656066bd",
   "metadata": {},
   "source": [
    "### Define update function\n",
    "\n",
    "$$\n",
    "    w \\leftarrow w - \\alpha\\frac{\\partial L}{\\partial w}, \n",
    "$$\n",
    "\n",
    "and \n",
    "\n",
    "$$\n",
    "   b \\leftarrow b - \\alpha\\frac{\\partial L}{\\partial b}. \n",
    "$$"
   ]
  },
  {
   "cell_type": "code",
   "execution_count": null,
   "id": "1f01e070",
   "metadata": {},
   "outputs": [],
   "source": [
    "# Define the update function\n",
    "\n",
    "def update(x, y, w, b, alpha):\n",
    "    \"\"\"Update function, which returns updated parameters. \n",
    "    \"\"\"\n",
    "    dr_dw = 0.0\n",
    "    dr_db = 0.0\n",
    "    N = len(x)\n",
    "\n",
    "    for i in range(N):\n",
    "        dr_dw += -2 * x[i] * (y[i] - (w * x[i] + b))\n",
    "        dr_db += -2 * (y[i] - (w * x[i] + b))\n",
    "\n",
    "    # Update w and b\n",
    "    w = w - (dr_dw/float(N)) * alpha\n",
    "    b = b - (dr_db/float(N)) * alpha\n",
    "\n",
    "    return w, b "
   ]
  },
  {
   "cell_type": "markdown",
   "id": "dff573f0",
   "metadata": {},
   "source": [
    "### Gradient descent function\n",
    "\n",
    "The Gradien Descent function to iterate **over the epochs** where we recalculate partial derivatives using the above function, update `w`nand `b`; we **continue the process until convergence**. "
   ]
  },
  {
   "cell_type": "code",
   "execution_count": null,
   "id": "cd7ab52b",
   "metadata": {},
   "outputs": [],
   "source": [
    "# Define the gradient function\n",
    "\n",
    "def gradient_descent(x, y, w, b, alpha, epochs):\n",
    "    \"\"\"Gradient descent process. \n",
    "    \"\"\"\n",
    "\n",
    "    counter = 0;\n",
    "    for e in range(epochs):\n",
    "        w, b = update(x, y, w, b, alpha)\n",
    "\n",
    "        # Log the progress\n",
    "        if (e == 0) or (e < 3000 and e % 200 == 0) or (e % 3000 == 0):\n",
    "            print(\"epoch: \", str(e), \"loss: \"+str(loss(x, y, w, b)))\n",
    "            print(\"w, b: \", w, b)\n",
    "            print('---')\n",
    "            # Plot the update \n",
    "            plt.figure(counter)\n",
    "            axes = plt.gca()\n",
    "            axes.set_xlim([0,300])\n",
    "            axes.set_ylim([0,50])\n",
    "            plt.scatter(x, y)\n",
    "            X_plot = np.linspace(0,300,300)\n",
    "            plt.plot(X_plot, X_plot*w + b, 'r-')\n",
    "            counter += 1\n",
    "    return w, b                "
   ]
  },
  {
   "cell_type": "markdown",
   "id": "45c3c4fc",
   "metadata": {},
   "source": [
    "### Run the Gradient Descent procedure"
   ]
  },
  {
   "cell_type": "code",
   "execution_count": null,
   "id": "37e12700",
   "metadata": {},
   "outputs": [],
   "source": [
    "# Run the Gradient Descent algorithm\n",
    "w, b = gradient_descent(x, y, w, b, alpha, epochs)\n",
    "print('End of training!')"
   ]
  },
  {
   "cell_type": "code",
   "execution_count": null,
   "id": "004c3d38",
   "metadata": {},
   "outputs": [],
   "source": [
    "print(w, b)"
   ]
  },
  {
   "cell_type": "markdown",
   "id": "9d5be2a4",
   "metadata": {
    "scrolled": false
   },
   "source": [
    "#### What is the result of the optimisation procedure?\n",
    "\n",
    "1/ Improve the Gradient descent function: store history of loss. \n",
    "\n",
    "2/ Plot the loss against the epoches. \n",
    "\n",
    "3/ Store the history of w and b paramseters.  \n",
    "\n",
    "4/ Plot w and b against the epochos  \n",
    "\n",
    "5/ Evaluate the plots "
   ]
  },
  {
   "cell_type": "markdown",
   "id": "db5dcda7",
   "metadata": {},
   "source": [
    "### Task 1/ Improve the Gradient Descent function, store history of loss. "
   ]
  },
  {
   "cell_type": "code",
   "execution_count": null,
   "id": "428b135f",
   "metadata": {},
   "outputs": [],
   "source": [
    "pass"
   ]
  },
  {
   "cell_type": "markdown",
   "id": "a30ccc55",
   "metadata": {},
   "source": [
    "### Task 2/ Plot the loss against the epochs. "
   ]
  },
  {
   "cell_type": "code",
   "execution_count": null,
   "id": "08241315",
   "metadata": {},
   "outputs": [],
   "source": [
    "pass"
   ]
  },
  {
   "cell_type": "markdown",
   "id": "1da1c11b",
   "metadata": {},
   "source": [
    "### Task 3/ Store the history of w and b paramseters.  "
   ]
  },
  {
   "cell_type": "code",
   "execution_count": null,
   "id": "42205de5",
   "metadata": {},
   "outputs": [],
   "source": [
    "pass "
   ]
  },
  {
   "cell_type": "markdown",
   "id": "758a759a",
   "metadata": {},
   "source": [
    "### Task 4/ Plot w and b against the epochos  "
   ]
  },
  {
   "cell_type": "code",
   "execution_count": null,
   "id": "2c3d7d06",
   "metadata": {},
   "outputs": [],
   "source": [
    "pass"
   ]
  }
 ],
 "metadata": {
  "kernelspec": {
   "display_name": "Python 3 (ipykernel)",
   "language": "python",
   "name": "python3"
  },
  "language_info": {
   "codemirror_mode": {
    "name": "ipython",
    "version": 3
   },
   "file_extension": ".py",
   "mimetype": "text/x-python",
   "name": "python",
   "nbconvert_exporter": "python",
   "pygments_lexer": "ipython3",
   "version": "3.9.10"
  }
 },
 "nbformat": 4,
 "nbformat_minor": 5
}
