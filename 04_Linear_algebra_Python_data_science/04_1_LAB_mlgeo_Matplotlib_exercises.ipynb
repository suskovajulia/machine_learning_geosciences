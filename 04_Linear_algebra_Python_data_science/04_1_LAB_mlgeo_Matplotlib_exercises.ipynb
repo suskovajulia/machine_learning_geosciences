{
 "cells": [
  {
   "cell_type": "markdown",
   "metadata": {},
   "source": [
    "# ___\n",
    "\n",
    "# [ Machine Learning in Geosciences ]\n",
    "\n",
    "**Department of Applied Geoinformatics and Carthography, Charles University** \n",
    "\n",
    "*Lukas Brodsky lukas.brodsky@natur.cuni.cz*\n",
    "\n"
   ]
  },
  {
   "cell_type": "markdown",
   "metadata": {},
   "source": [
    "## Matplotlib exercises\n",
    "\n",
    "1. line plotting\n",
    "\n",
    "2. scaterplot and line ploting\n",
    "\n",
    "3. histogram plotting\n",
    "\n",
    "4. multiplot (two functions) "
   ]
  },
  {
   "cell_type": "code",
   "execution_count": 41,
   "metadata": {},
   "outputs": [],
   "source": [
    "import matplotlib.pyplot as plt\n",
    "%matplotlib inline"
   ]
  },
  {
   "cell_type": "markdown",
   "metadata": {},
   "source": [
    "### **Exercise 1:** line plot\n",
    "* Plot line graph with plt.plot() method using x and y1 and y2 data\n",
    "* Plot sin with blue line and cosfunction with green dashed line \n",
    "* Add plot label and legend "
   ]
  },
  {
   "cell_type": "code",
   "execution_count": null,
   "metadata": {},
   "outputs": [],
   "source": [
    "# Sample data\n",
    "import numpy as np\n",
    "x = np.linspace(0, 10, 100)\n",
    "y1 = np.sin(x)\n",
    "y2 = np.cos(x)"
   ]
  },
  {
   "cell_type": "code",
   "execution_count": 42,
   "metadata": {
    "scrolled": false
   },
   "outputs": [],
   "source": [
    "# create plot \n",
    "pass"
   ]
  },
  {
   "cell_type": "markdown",
   "metadata": {},
   "source": [
    "### **Exercise 2:**  scatterplot and line together\n",
    "\n",
    "* Combine `plt.scatterplot()` and `plt.plot()`.  \n",
    "\n",
    "* Use scatterplot for x and y1 samples; and lineplot for x and y2 for the 'underlying function'. \n",
    "\n",
    "* Add legend"
   ]
  },
  {
   "cell_type": "code",
   "execution_count": 31,
   "metadata": {},
   "outputs": [],
   "source": [
    "# Data\n",
    "N = 50\n",
    "x = np.linspace(0., 10., N)\n",
    "y1 = np.sin(x)**2 + np.cos(x) + np.random.randn(N) / 10\n",
    "y2 = np.sin(x)**2 + np.cos(x)"
   ]
  },
  {
   "cell_type": "code",
   "execution_count": 43,
   "metadata": {
    "scrolled": false
   },
   "outputs": [],
   "source": [
    "# create plot \n",
    "pass"
   ]
  },
  {
   "cell_type": "markdown",
   "metadata": {},
   "source": [
    "### **Exercise 3:**  histogram\n",
    "\n",
    "* Plot histogram of `z` values \n"
   ]
  },
  {
   "cell_type": "code",
   "execution_count": 37,
   "metadata": {},
   "outputs": [],
   "source": [
    "# data\n",
    "z = np.random.randn(1000)"
   ]
  },
  {
   "cell_type": "code",
   "execution_count": 44,
   "metadata": {},
   "outputs": [],
   "source": [
    "# create plot \n",
    "pass"
   ]
  },
  {
   "cell_type": "markdown",
   "metadata": {},
   "source": [
    "### Exercise 3: multiplot\n",
    "\n",
    "* Use subplot: nrows=1, ncols=2 to create the multiplot. \n",
    "\n",
    "* Plot (x,y) and (x,z) on the axes of 2 plot side by side. \n",
    "\n"
   ]
  },
  {
   "cell_type": "code",
   "execution_count": 39,
   "metadata": {},
   "outputs": [],
   "source": [
    "# data \n",
    "x = np.arange(0,6)\n",
    "y = x*2\n",
    "z = x**2"
   ]
  },
  {
   "cell_type": "code",
   "execution_count": 45,
   "metadata": {},
   "outputs": [],
   "source": [
    "# create, multi-plot \n",
    "pass"
   ]
  }
 ],
 "metadata": {
  "kernelspec": {
   "display_name": "Python 3 (ipykernel)",
   "language": "python",
   "name": "python3"
  },
  "language_info": {
   "codemirror_mode": {
    "name": "ipython",
    "version": 3
   },
   "file_extension": ".py",
   "mimetype": "text/x-python",
   "name": "python",
   "nbconvert_exporter": "python",
   "pygments_lexer": "ipython3",
   "version": "3.9.10"
  }
 },
 "nbformat": 4,
 "nbformat_minor": 1
}
